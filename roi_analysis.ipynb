{
 "cells": [
  {
   "cell_type": "code",
   "execution_count": null,
   "id": "144c8b21",
   "metadata": {},
   "outputs": [],
   "source": [
    "from roi_analyser.processing import RoiAnalyser"
   ]
  },
  {
   "cell_type": "code",
   "execution_count": null,
   "id": "58a215d7",
   "metadata": {},
   "outputs": [],
   "source": [
    "# path to the data directory containing image files\n",
    "DATA_DIR = \"data\"\n",
    "\n",
    "# path to the directory where output files (results, plots, etc.) will be saved\n",
    "OUTPUT_DIR = \"out\"\n",
    "\n",
    "# list of imaging modalities/channels to process (e.g., DAPI, TRITC, GFP)\n",
    "MODALITIES = [\"dapi\", \"tritc\", \"gfp\"]"
   ]
  },
  {
   "cell_type": "code",
   "execution_count": null,
   "id": "8ed23c4c",
   "metadata": {},
   "outputs": [],
   "source": [
    "# name of the ROI\n",
    "roi_name = \"A1ROI1\"\n",
    "\n",
    "# set to the required Z or leave empty \"\"\n",
    "z = \"Z4\"\n",
    "\n",
    "# minimum area (in pixels) required to keep a detected cluster; clusters smaller than this are ignored\n",
    "area_threshold = 4000\n",
    "\n",
    "# thresholding method for image segmentation: choose from \"yen\", \"otsu\", or \"triangle\"\n",
    "# \"yen\" works in most cases\n",
    "# \"triangle\" should work better for blurry objects\n",
    "thresholding_method = \"triangle\"\n",
    "\n",
    "analyser = RoiAnalyser(\n",
    "    DATA_DIR, roi_name, OUTPUT_DIR, MODALITIES,\n",
    "    area_threshold=area_threshold,\n",
    "    thresholding_method=thresholding_method,\n",
    "    plot_bright=False,\n",
    ")\n",
    "clusters, channel_histograms = analyser.run_analysis(z)"
   ]
  },
  {
   "cell_type": "markdown",
   "id": "c9a01fb0",
   "metadata": {},
   "source": [
    "### (**OPTIONAL**) Remove clusters"
   ]
  },
  {
   "cell_type": "code",
   "execution_count": null,
   "id": "81e27137",
   "metadata": {},
   "outputs": [],
   "source": [
    "clusters_to_remove = [] # can be one [1], or multiple [1, 2]\n",
    "if len(clusters_to_remove) > 0:\n",
    "    clusters, channel_histograms = analyser.remove_clusters(clusters, clusters_to_remove)"
   ]
  },
  {
   "cell_type": "markdown",
   "id": "784711e2",
   "metadata": {},
   "source": [
    "### (**OPTIONAL**) Run the histogram analysis for different Z"
   ]
  },
  {
   "cell_type": "code",
   "execution_count": null,
   "id": "31236f48",
   "metadata": {},
   "outputs": [],
   "source": [
    "z = \"Z6\"    # change me\n",
    "\n",
    "print(\"Step 3.5: Repeat for additional Zs...\")\n",
    "channels = analyser.repeat_for_additional_images(z, clusters, channel_histograms)"
   ]
  },
  {
   "cell_type": "markdown",
   "id": "3776357a",
   "metadata": {},
   "source": [
    "### Save the calculated histograms as `.csv` files"
   ]
  },
  {
   "cell_type": "code",
   "execution_count": null,
   "id": "e63b8e79",
   "metadata": {},
   "outputs": [],
   "source": [
    "# save histograms\n",
    "print(\"Step 4: Saving histograms\")\n",
    "out_files = analyser.save_histogram(channel_histograms)"
   ]
  },
  {
   "cell_type": "markdown",
   "id": "c47389b0",
   "metadata": {},
   "source": [
    "### Calculate apopnec ratio"
   ]
  },
  {
   "cell_type": "code",
   "execution_count": null,
   "id": "f17c77d0",
   "metadata": {},
   "outputs": [],
   "source": [
    "# change the `start_row`\n",
    "params = {\n",
    "    \"GFP\": {\"file\": out_files[\"GFP\"], \"start_row\": 72},\n",
    "    \"TRITC\": {\"file\": out_files[\"TRITC\"], \"start_row\": 72},\n",
    "}\n",
    "\n",
    "print(\"Step 5: Calculate apopnec ratio...\")\n",
    "for name, args in params.items():\n",
    "    print(f\"  For {name}\", end=\", \")\n",
    "    analyser.apopnec_ratio(file=args[\"file\"], start_row=args[\"start_row\"])\n",
    "\n",
    "print(\"------------------\")\n",
    "print(\"Done :)\")"
   ]
  }
 ],
 "metadata": {
  "kernelspec": {
   "display_name": "roi-analysis",
   "language": "python",
   "name": "python3"
  },
  "language_info": {
   "codemirror_mode": {
    "name": "ipython",
    "version": 3
   },
   "file_extension": ".py",
   "mimetype": "text/x-python",
   "name": "python",
   "nbconvert_exporter": "python",
   "pygments_lexer": "ipython3",
   "version": "3.12.11"
  }
 },
 "nbformat": 4,
 "nbformat_minor": 5
}
